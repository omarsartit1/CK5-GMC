{
 "cells": [
  {
   "cell_type": "code",
   "execution_count": 3,
   "id": "d7f32e3f-6d59-43c4-a4c4-ad09afa89791",
   "metadata": {},
   "outputs": [
    {
     "name": "stdout",
     "output_type": "stream",
     "text": [
      "(1, 2, 3)\n"
     ]
    }
   ],
   "source": [
    "#1 instruction\n",
    "class Point3D:\n",
    "    def __init__(self, x, y, z):\n",
    "        self.x = x\n",
    "        self.y = y\n",
    "        self.z = z\n",
    "\n",
    "    def __repr__(self):\n",
    "        return f\"({self.x}, {self.y}, {self.z})\"\n",
    "        \n",
    "my_point = Point3D(1, 2, 3)\n",
    "print(my_point)\n"
   ]
  },
  {
   "cell_type": "code",
   "execution_count": 5,
   "id": "a50c19a2-369c-493b-9412-1731622e4821",
   "metadata": {},
   "outputs": [
    {
     "name": "stdout",
     "output_type": "stream",
     "text": [
      "Air: 12\n",
      "Perimetre: 14\n"
     ]
    }
   ],
   "source": [
    "#2 instruction \n",
    "class Rectangle:\n",
    "    def __init__(self, length, width):\n",
    "        self.length = length\n",
    "        self.width = width\n",
    "\n",
    "    def air(self):\n",
    "        return self.length * self.width\n",
    "\n",
    "    def perimetre(self):\n",
    "        return 2 * (self.length + self.width)\n",
    "\n",
    "my_rectangle = Rectangle(4, 3)\n",
    "print(\"Air:\", my_rectangle.air())\n",
    "print(\"Perimetre:\", my_rectangle.perimetre())"
   ]
  },
  {
   "cell_type": "code",
   "execution_count": 14,
   "id": "65a53f9d-552c-46a3-9433-45636b503286",
   "metadata": {},
   "outputs": [
    {
     "name": "stdout",
     "output_type": "stream",
     "text": [
      "Area: 78.53981633974483\n",
      "Perimeter: 31.41592653589793\n",
      "Point (3, 4) is inside the circle.\n"
     ]
    }
   ],
   "source": [
    "#3instruction\n",
    "import math\n",
    "\n",
    "class Circle:\n",
    "    def __init__(self, x, y, r):\n",
    "        self.center_x = x\n",
    "        self.center_y = y\n",
    "        self.radius = r\n",
    "\n",
    "    def area(self):\n",
    "        return math.pi * self.radius ** 2   #methode pour calculer l'air d'un cercle\n",
    "\n",
    "    def perimeter(self):                    #methode pour calculer le perimetre du cercle \n",
    "        return 2 * math.pi * self.radius\n",
    "\n",
    "    def is_inside(self, x, y):\n",
    "        distance = math.sqrt((x - self.center_x) ** 2 + (y - self.center_y) ** 2)\n",
    "        return distance <= self.radius\n",
    "\n",
    "# creer objet : cercle \n",
    "my_circle = Circle(0, 0, 5)\n",
    "\n",
    "# calcul de l'air et du perimetre\n",
    "print(\"Area:\", my_circle.area())\n",
    "print(\"Perimeter:\", my_circle.perimeter())\n",
    "\n",
    "# Tester les points dans à l'interieur du cercle\n",
    "point_x, point_y = 3, 4\n",
    "if my_circle.is_inside(point_x, point_y):\n",
    "    print(f\"Point ({point_x}, {point_y}) is inside the circle.\")\n",
    "else:\n",
    "    print(f\"Point ({point_x}, {point_y}) is not inside the circle.\")\n"
   ]
  },
  {
   "cell_type": "code",
   "execution_count": 13,
   "id": "cbc140f2-3679-4eba-9bd3-639c48409ffd",
   "metadata": {},
   "outputs": [
    {
     "name": "stdout",
     "output_type": "stream",
     "text": [
      "dépot de 500 MAD\n",
      "New balance: 1500\n",
      "retrait de 200 MAD\n",
      "New balance: 1300\n",
      "retrait de 1500 MAD\n",
      "Solde insuffisant\n",
      "New balance: 1300\n"
     ]
    }
   ],
   "source": [
    "#4instruction \n",
    "class Bank:\n",
    "    def __init__(self, balance=0):\n",
    "        self.balance = balance\n",
    "\n",
    "    def deposit(self, amount):\n",
    "        self.balance = self.balance + amount\n",
    "        return self.balance\n",
    "\n",
    "    def withdraw(self, amount):\n",
    "        if amount > self.balance:\n",
    "            print(\"Solde insuffisant\")\n",
    "        else:\n",
    "            self.balance = self.balance - amount\n",
    "        return self.balance\n",
    "# Create Bank account \n",
    "my_account = Bank(1000)\n",
    "\n",
    "# Deposit 500\n",
    "print(\"dépot de 500 MAD\")\n",
    "new_balance = my_account.deposit(500)\n",
    "print(\"New balance:\", new_balance)\n",
    "\n",
    "# Withdraw 200 \n",
    "print(\"retrait de 200 MAD\")\n",
    "new_balance = my_account.withdraw(200)\n",
    "print(\"New balance:\", new_balance)\n",
    "\n",
    "# Try to withdraw 1500 \n",
    "print(\"retrait de 1500 MAD\")\n",
    "new_balance = my_account.withdraw(1500)\n",
    "print(\"New balance:\", new_balance)\n"
   ]
  },
  {
   "cell_type": "code",
   "execution_count": null,
   "id": "655e6a4e-e162-4da4-88a6-52a649a72200",
   "metadata": {},
   "outputs": [],
   "source": []
  },
  {
   "cell_type": "code",
   "execution_count": null,
   "id": "8903194f-402c-4212-8b80-e878b1a63f45",
   "metadata": {},
   "outputs": [],
   "source": []
  }
 ],
 "metadata": {
  "kernelspec": {
   "display_name": "Python 3 (ipykernel)",
   "language": "python",
   "name": "python3"
  },
  "language_info": {
   "codemirror_mode": {
    "name": "ipython",
    "version": 3
   },
   "file_extension": ".py",
   "mimetype": "text/x-python",
   "name": "python",
   "nbconvert_exporter": "python",
   "pygments_lexer": "ipython3",
   "version": "3.11.7"
  }
 },
 "nbformat": 4,
 "nbformat_minor": 5
}
